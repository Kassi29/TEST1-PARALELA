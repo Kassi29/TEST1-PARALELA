{
  "nbformat": 4,
  "nbformat_minor": 0,
  "metadata": {
    "colab": {
      "provenance": []
    },
    "kernelspec": {
      "name": "python3",
      "display_name": "Python 3"
    },
    "language_info": {
      "name": "python"
    }
  },
  "cells": [
    {
      "cell_type": "markdown",
      "source": [
        "\n",
        "## 5. Con multiprocessing, calcule pi hasta el término 1 millón, utilice al menos 3 procesadores.\n"
      ],
      "metadata": {
        "id": "DcNc_9D6YJHq"
      }
    },
    {
      "cell_type": "code",
      "execution_count": 3,
      "metadata": {
        "colab": {
          "base_uri": "https://localhost:8080/"
        },
        "id": "l2QPZqfJXKLG",
        "outputId": "c8b810c4-5342-4c12-a380-2e1ba2a22f29"
      },
      "outputs": [
        {
          "output_type": "stream",
          "name": "stdout",
          "text": [
            "Proceso 0: Calculando π de 0 a 333333\n",
            "Proceso 2: Calculando π de 666666 a 1000000\n",
            "Proceso 1: Calculando π de 333333 a 666666\n",
            "Valor aproximado de pi: 3.1415916536\n",
            "Tiempo de ejecución: 0.5058 segundos\n"
          ]
        }
      ],
      "source": [
        "import multiprocessing\n",
        "import time\n",
        "\n",
        "def calcular_pi_segmento(start, end, result, index):\n",
        "    pi_segmento = 0.0\n",
        "    for i in range(start, end):\n",
        "        pi_segmento += ((-1) ** i) / (2 * i + 1)\n",
        "    result[index] = pi_segmento\n",
        "    print(f\"Proceso {index}: Calculando π de {start} a {end}\")\n",
        "\n",
        "def calcular_pi(total_terms, num_processes):\n",
        "    segment_size = total_terms // num_processes\n",
        "    processes = []\n",
        "    result = multiprocessing.Array('d', num_processes)\n",
        "\n",
        "    for i in range(num_processes):\n",
        "        start = i * segment_size\n",
        "        end = (i + 1) * segment_size if i < num_processes - 1 else total_terms\n",
        "        p = multiprocessing.Process(target=calcular_pi_segmento, args=(start, end, result, i))\n",
        "        processes.append(p)\n",
        "        p.start()\n",
        "\n",
        "    for p in processes:\n",
        "        p.join()\n",
        "\n",
        "    pi_total = sum(result) * 4\n",
        "    return pi_total\n",
        "\n",
        "if __name__ == \"__main__\":\n",
        "    total_terms = 1000000  # 1 millón de términos\n",
        "    num_processes = 3\n",
        "\n",
        "    start_time = time.time()\n",
        "    pi_approximation = calcular_pi(total_terms, num_processes)\n",
        "    end_time = time.time()\n",
        "\n",
        "    execution_time = end_time - start_time  # Calcular tiempo de ejecución\n",
        "    print(f\"Valor aproximado de pi: {pi_approximation:.10f}\")\n",
        "    print(f\"Tiempo de ejecución: {execution_time:.4f} segundos\")\n"
      ]
    },
    {
      "cell_type": "markdown",
      "source": [
        "## Sin multiprocessing"
      ],
      "metadata": {
        "id": "3hwaKoHcYRsy"
      }
    },
    {
      "cell_type": "code",
      "source": [
        "import time\n",
        "\n",
        "def calcular_pi(total_terms):\n",
        "    pi_total = 0.0\n",
        "    for i in range(total_terms):\n",
        "        pi_total += ((-1) ** i) / (2 * i + 1)\n",
        "    return pi_total * 4  # Multiplicar por 4 para obtener π\n",
        "\n",
        "if __name__ == \"__main__\":\n",
        "    total_terms = 1000000  # 1 millón de términos\n",
        "\n",
        "    start_time = time.time()  # Iniciar temporizador\n",
        "    pi_approximation = calcular_pi(total_terms)\n",
        "    end_time = time.time()  # Finalizar temporizador\n",
        "\n",
        "    execution_time = end_time - start_time  # Calcular tiempo de ejecución\n",
        "    print(f\"Valor aproximado de pi: {pi_approximation:.10f}\")\n",
        "    print(f\"Tiempo de ejecución: {execution_time:.4f} segundos\")\n"
      ],
      "metadata": {
        "colab": {
          "base_uri": "https://localhost:8080/"
        },
        "id": "bZAr_x-iXwBN",
        "outputId": "f1ac1e9b-5cf6-4dc1-e78b-4270e8fce071"
      },
      "execution_count": 2,
      "outputs": [
        {
          "output_type": "stream",
          "name": "stdout",
          "text": [
            "Valor aproximado de pi: 3.1415916536\n",
            "Tiempo de ejecución: 0.4762 segundos\n"
          ]
        }
      ]
    }
  ]
}